{
  "nbformat": 4,
  "nbformat_minor": 0,
  "metadata": {
    "colab": {
      "name": "ImageColoring.ipynb",
      "provenance": [],
      "collapsed_sections": []
    },
    "kernelspec": {
      "name": "python3",
      "display_name": "Python 3"
    },
    "language_info": {
      "name": "python"
    },
    "accelerator": "GPU"
  },
  "cells": [
    {
      "cell_type": "code",
      "metadata": {
        "colab": {
          "base_uri": "https://localhost:8080/"
        },
        "id": "_PlOkeR142_y",
        "outputId": "495a1bb1-ea3a-45b9-ce46-3ef8a050831a"
      },
      "source": [
        "from google.colab import drive\n",
        "drive.mount('/content/drive')"
      ],
      "execution_count": null,
      "outputs": [
        {
          "output_type": "stream",
          "text": [
            "Mounted at /content/drive\n"
          ],
          "name": "stdout"
        }
      ]
    },
    {
      "cell_type": "code",
      "metadata": {
        "id": "H5a2iFDV-q-W"
      },
      "source": [
        "Test_dir_path = \"\"\n",
        "Train_dir_path = \"\"\n",
        "save_weight_path =\"\"\n",
        "load_weight_path =\"\"\n",
        "save_model_path = \"\"\n",
        "save_outpput_path =\"\""
      ],
      "execution_count": null,
      "outputs": []
    },
    {
      "cell_type": "markdown",
      "metadata": {
        "id": "q5UldA_k5Nh2"
      },
      "source": [
        "# Imports"
      ]
    },
    {
      "cell_type": "code",
      "metadata": {
        "id": "LZwrqG8-5MJ2"
      },
      "source": [
        "import os\n",
        "import numpy as np\n",
        "import tensorflow as tf\n",
        "import matplotlib.pyplot as plt\n",
        "from skimage.io import imsave\n",
        "from skimage.color import rgb2lab, lab2rgb\n",
        "from tensorflow.keras import layers\n",
        "from tensorflow.keras.models import Model\n",
        "from tensorflow.keras.layers import Conv2D, Conv2DTranspose, RepeatVector,Reshape\n",
        "from tensorflow.keras.layers import  Dense, Flatten, Input, Concatenate\n",
        "from tensorflow.keras.preprocessing.image import ImageDataGenerator, img_to_array, load_img"
      ],
      "execution_count": null,
      "outputs": []
    },
    {
      "cell_type": "markdown",
      "metadata": {
        "id": "79YF0Pb65HlM"
      },
      "source": [
        "# Import Data"
      ]
    },
    {
      "cell_type": "code",
      "metadata": {
        "id": "6PC-m16D5Fr0"
      },
      "source": [
        "def loadImagesToArray(dir_path, num_of_img=-1, search_inside =False):\n",
        "  \"\"\"\n",
        "  dir_path : path of directory from which images will be imported\n",
        "  num_of_imgs (Integer): number of images to be imported from the directory if not \n",
        "              given than all images will be imported \n",
        "  search_inside (boolean, default : False) : If true all images inside that directory\n",
        "              along with the images in subdirectory will be added to output array\n",
        "  \"\"\"\n",
        "  images = []\n",
        "  count = -1\n",
        "  if search_inside==False:\n",
        "      for filename in os.listdir(dir_path):\n",
        "          count+=1\n",
        "          if(count==num_of_img):\n",
        "              break\n",
        "          images.append(img_to_array(load_img(dir_path+os.sep+filename)))\n",
        "  if search_inside==True:\n",
        "      for root,dirs,files in os.walk(dir_path):\n",
        "        for filename in files:\n",
        "            count+=1\n",
        "            if(count==num_of_img):\n",
        "                break\n",
        "            images.append(img_to_array(load_img(root+os.sep+filename)))\n",
        "  return np.array(images,dtype=float)/255.0\n",
        "\n",
        "def DataGenerator():\n",
        "    DataGen = ImageDataGenerator(        \n",
        "        shear_range=0.2,\n",
        "        zoom_range=0.2,\n",
        "        rotation_range=20,\n",
        "        horizontal_flip=True)\n",
        "    return DataGen\n",
        "\n",
        "def RGB2GRAY(img,add_channel_dim=False):\n",
        "  conv_matrix = np.array([0.212671 ,0.715160,0.072169])\n",
        "  gray_img = img @ conv_matrix\n",
        "  if add_channel_dim==True:\n",
        "    return gray_img.reshape(np.array([*list(gray_img.shape),1]))\n",
        "  else:\n",
        "    return gray_img\n",
        "\n",
        "def RGB2ab(img,use_skimage=True):\n",
        "  \"\"\"\n",
        "  Refrences\n",
        "  * https://en.wikipedia.org/wiki/Lab_color_space\n",
        "  * https://github.com/scikit-image/scikit-image/blob/main/skimage/color/colorconv.py#L990-L1050\n",
        "  \"\"\"\n",
        "  if use_skimage==False:\n",
        "    def finv(cie):\n",
        "      cond = cie > 0.008856\n",
        "      cie[cond] = np.cbrt(cie[cond])\n",
        "      cie[~cond] = 7.787 * cie[~cond] + 16. / 116.\n",
        "      return cie     \n",
        "\n",
        "    conv_matrix =np.array( [[0.412453, 0.357580, 0.180423],\n",
        "            [0.212671, 0.715160, 0.072169],\n",
        "            [0.019334, 0.119193, 0.950227]])\n",
        "    CIE = np.matmul(img,conv_matrix.T)\n",
        "    CIE[0] = CIE[0]/0.95047\n",
        "    CIE[2] = CIE[2]/1.08883\n",
        "    CIE = finv(CIE)\n",
        "    x, y, z = CIE[..., 0], CIE[..., 1], CIE[..., 2]\n",
        "    a =  (500*(x-y)+127)/255.0\n",
        "    b =  (200*(y-z)+127)/255.0\n",
        "    return np.concatenate([x[..., np.newaxis] for x in [a, b]], axis=-1)\n",
        "  else:\n",
        "    Lab = rgb2lab(img)\n",
        "    a = (Lab[...,1]+127)/255.0\n",
        "    b = (Lab[...,2]+127)/255.0\n",
        "    return np.concatenate([x[..., np.newaxis] for x in [a, b]], axis=-1)\n",
        "\n",
        "def Lab2RGB(gray,ab):\n",
        "  ab = ab*255.0 -127\n",
        "  gray = gray*100\n",
        "  Lab =np.concatenate([x[..., np.newaxis] for x in [gray[...,0], ab[...,0],ab[...,1]]], axis=-1)\n",
        "  return lab2rgb(Lab)\n",
        "\n",
        "def compare_results(img_gt,img_in,img_out,save_results=False,save_as=\"\"):\n",
        "  fig, (ax1, ax2, ax3) = plt.subplots(1, 3)\n",
        "  ax1.imshow(img_gt)\n",
        "  ax1.set_title('Ground Truth')\n",
        "  ax2.imshow(img_in,cmap='gray')\n",
        "  ax2.set_title('Input')\n",
        "  ax3.imshow(img_out)\n",
        "  ax3.set_title('Output')\n",
        "  axes = [ax1,ax2,ax3]\n",
        "  for ax in axes:\n",
        "    ax.set_xticks([])\n",
        "    ax.set_yticks([])\n",
        "  plt.show()\n",
        "  if save_results==True:\n",
        "    path = save_as+'.svg'\n",
        "    fig.savefig(path,dpi=300)\n",
        "\n",
        "def BatchGenerator(data,imgDataGen,batch_size=64):\n",
        "  for batch in imgDataGen.flow(data, batch_size=batch_size):\n",
        "    yield RGB2GRAY(batch,True), RGB2ab(batch)\n"
      ],
      "execution_count": null,
      "outputs": []
    },
    {
      "cell_type": "markdown",
      "metadata": {
        "id": "mDFfx4yw7LxB"
      },
      "source": [
        "# Model"
      ]
    },
    {
      "cell_type": "code",
      "metadata": {
        "id": "_ZylXrjh7LBi"
      },
      "source": [
        "HEIGHT = 256\n",
        "WIDTH  = 256\n",
        "ks = (3,3) \n",
        "actt ='sigmoid'\n",
        "learning_rate=0.001\n",
        "\n",
        "\n",
        "def build_model(ks=(3,3),act='sigmoid',learning_rate=1e-2):\n",
        "  input_lvl = Input(shape = (HEIGHT,WIDTH,1))\n",
        "  \n",
        "  # Initial Shared Network of Low - Level Features\n",
        "  low_lvl = Conv2D(64 ,kernel_size=ks,strides=(2,2),activation=act,padding='SAME')(input_lvl)\n",
        "  low_lvl = layers.BatchNormalization()(low_lvl)\n",
        "  low_lvl = Conv2D(128,kernel_size=ks,strides=(1,1),activation=act,padding='SAME')(low_lvl) \n",
        "  low_lvl = layers.BatchNormalization()(low_lvl)\n",
        "  low_lvl = Conv2D(128,kernel_size=ks,strides=(2,2),activation=act,padding='SAME')(low_lvl) \n",
        "  low_lvl = layers.BatchNormalization()(low_lvl)\n",
        "  low_lvl = Conv2D(256,kernel_size=ks,strides=(1,1),activation=act,padding='SAME')(low_lvl) \n",
        "  low_lvl = layers.BatchNormalization()(low_lvl)\n",
        "  low_lvl = Conv2D(256,kernel_size=ks,strides=(2,2),activation=act,padding='SAME')(low_lvl)\n",
        "  low_lvl = layers.BatchNormalization()(low_lvl)\n",
        "  low_lvl = Conv2D(512,kernel_size=ks,strides=(1,1),activation=act,padding='SAME')(low_lvl)\n",
        "  low_lvl = layers.BatchNormalization()(low_lvl)\n",
        "\n",
        "  #Path one for  Mid-Level Features Network\n",
        "  mid_lvl = Conv2D(512,kernel_size=ks,strides=(1,1),activation=act,padding='SAME')(low_lvl)\n",
        "  mid_lvl = layers.BatchNormalization()(mid_lvl)\n",
        "  mid_lvl = Conv2D(256,kernel_size=ks,strides=(1,1),activation=act,padding='SAME')(mid_lvl)\n",
        "  mid_lvl = layers.BatchNormalization()(mid_lvl)\n",
        "\n",
        "  #Path two for Global Features Network\n",
        "  global_lvl = Conv2D(512,kernel_size=ks,strides=(2,2),activation=act,padding='SAME')(low_lvl)\n",
        "  global_lvl = layers.BatchNormalization()(global_lvl)\n",
        "  global_lvl = Conv2D(512,kernel_size=ks,strides=(1,1),activation=act,padding='SAME')(global_lvl)\n",
        "  global_lvl = layers.BatchNormalization()(global_lvl)\n",
        "  global_lvl = Conv2D(512,kernel_size=ks,strides=(2,2),activation=act,padding='SAME')(global_lvl)\n",
        "  global_lvl = layers.BatchNormalization()(global_lvl)\n",
        "  global_lvl = Conv2D(512,kernel_size=ks,strides=(1,1),activation=act,padding='SAME')(global_lvl)\n",
        "  global_lvl = layers.BatchNormalization()(global_lvl)\n",
        "  global_lvl = Flatten()(global_lvl) \n",
        "  global_lvl = Dense(1024,activation=act)(global_lvl)\n",
        "  global_lvl = Dense(512 ,activation=act)(global_lvl)\n",
        "  global_lvl = Dense(256 ,activation=act)(global_lvl)\n",
        "  \n",
        "\n",
        "  # Fusing the output of above two paths\n",
        "  fusion_lvl = RepeatVector(mid_lvl.shape[1] * mid_lvl.shape[1])(global_lvl) \n",
        "  fusion_lvl = Reshape(([mid_lvl.shape[1],mid_lvl.shape[1]  , 256]))(fusion_lvl)\n",
        "  fusion_lvl = Concatenate( axis=3)([mid_lvl, fusion_lvl]) \n",
        "  fusion_lvl = Conv2D(256, kernel_size=ks,strides =(1, 1), activation=act,padding='SAME')(fusion_lvl)\n",
        "\n",
        "  #Colorization Network\n",
        "  color_lvl = Conv2DTranspose(128,kernel_size = ks,strides = (1,1),padding='SAME',activation=act)(fusion_lvl)\n",
        "  color_lvl = layers.BatchNormalization()(color_lvl)\n",
        "  color_lvl = Conv2DTranspose(64,kernel_size = ks,strides = (2,2),padding='SAME',activation=act)(color_lvl)\n",
        "  color_lvl = layers.BatchNormalization()(color_lvl)\n",
        "  color_lvl = Conv2DTranspose(64,kernel_size = ks,strides = (1,1),padding='SAME',activation=act)(color_lvl)\n",
        "  color_lvl = layers.BatchNormalization()(color_lvl)\n",
        "  color_lvl = Conv2DTranspose(32,kernel_size = ks,strides = (2,2),padding='SAME',activation=act)(color_lvl)\n",
        "  color_lvl = layers.BatchNormalization()(color_lvl)\n",
        "  # color_lvl = Conv2D(32,kernel_size = ks,strides = (1,1),padding='VALID',activation=act)(color_lvl)\n",
        "  # color_lvl = layers.BatchNormalization()(color_lvl)\n",
        "  # #Output Layer\n",
        "  output_lvl = Conv2DTranspose(2,kernel_size=ks,strides=(2,2),padding='SAME',activation='sigmoid')(color_lvl)\n",
        "\n",
        "\n",
        "  #Model Parameters\n",
        "  model = Model(inputs = input_lvl, outputs = output_lvl)\n",
        "  optimizer = tf.keras.optimizers.Adam(learning_rate=learning_rate)\n",
        "  model.compile(loss = tf.keras.losses.MeanSquaredError(), optimizer = optimizer,metrics = ['accuracy',tf.keras.metrics.CosineSimilarity(\n",
        "      name=\"cosine_similarity\", dtype=None, axis=-1\n",
        "      )])\n",
        "\n",
        "  return model\n",
        "\n",
        "mymod = build_model(act = actt ,learning_rate = 0.0001)"
      ],
      "execution_count": null,
      "outputs": []
    },
    {
      "cell_type": "code",
      "metadata": {
        "id": "9hCV74LIvtNh"
      },
      "source": [
        "mymod.load_weights(load_weight_path)"
      ],
      "execution_count": null,
      "outputs": []
    },
    {
      "cell_type": "code",
      "metadata": {
        "id": "eG7tZuqfGnWm"
      },
      "source": [
        "mymod.summary()"
      ],
      "execution_count": null,
      "outputs": []
    },
    {
      "cell_type": "code",
      "metadata": {
        "id": "9suS15LPUj4w"
      },
      "source": [
        "data = loadImagesToArray(train_dir_path,500,True)\n",
        "datagen = DataGenerator()"
      ],
      "execution_count": null,
      "outputs": []
    },
    {
      "cell_type": "code",
      "metadata": {
        "id": "rgLRzq0kOv5L"
      },
      "source": [
        "history = mymod.fit(BatchGenerator(data,datagen,50),steps_per_epoch = 100,epochs=10)\n",
        "mymod.load_weights(save_weight_path)\n",
        "mymod.save(save_model_path)\n"
      ],
      "execution_count": null,
      "outputs": []
    },
    {
      "cell_type": "code",
      "metadata": {
        "id": "a9C_cZSR8FXl"
      },
      "source": [
        "import pandas as pd\n",
        "\n",
        "log = pd.DataFrame(history.history)\n",
        "log[log.columns[0]].plot(figsize=(8,5))\n",
        "plt.savefig('loss.svg')\n",
        "plt.title('Loss')\n",
        "plt.show()"
      ],
      "execution_count": null,
      "outputs": []
    },
    {
      "cell_type": "code",
      "metadata": {
        "id": "OInmraJq8ddX"
      },
      "source": [
        "color_me = loadImagesToArray(test_dir_path,40,False)\n",
        "gray = RGB2GRAY(color_me,True)\n",
        "gray2 = RGB2GRAY(color_me)\n",
        "output = mymod.predict(gray)\n",
        "for i in range(40):\n",
        "  pred = Lab2RGB(gray[i],output[i])\n",
        "  path = save_output_path+str(i)\n",
        "  compare_results(color_me[i],gray2[i],pred.reshape(color_me[i].shape),save_results=True,save_as=path)"
      ],
      "execution_count": null,
      "outputs": []
    }
  ]
}